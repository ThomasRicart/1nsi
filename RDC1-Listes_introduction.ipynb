{
 "cells": [
  {
   "cell_type": "markdown",
   "metadata": {},
   "source": [
    "# <p style=\"text-align: center;\">RDC1 - Les listes 1 - Introduction.</p>\n"
   ]
  },
  {
   "cell_type": "markdown",
   "metadata": {},
   "source": [
    "Une `liste` ou un `tableau indexé` est une *structure de données linéaires* qui peut contenir des `éléments` (ou `items`) de type quelconques (variables, chaines de caractères, tableaux indexés ...) placés les uns derrière les autres et repérés par un indice, en commençant par l'indice $0$.\n",
    "\n",
    "On peut se représenter un liste comme un tableau de ce type. La liste suivante possède 8 éléments:\n",
    "\n",
    "| Indice i  | 0 | 1 | 2 | 3 | 4 | 5 | 6 | 7 |\n",
    "| :-------: |:-:|:-:|:-:|:-:|:-:|:-:|:-:|:-:|\n",
    "| Elément   | 4 | 6 | 3 | 1 | 2 | 7 | 8 | 9 | \n",
    "\n",
    "En Python, l'implémentation de ces tableaux est le type _list_ ... mais ne sont pas vraiment des listes comme on le verra en détail en terminale. Cependant, il arrive souvent qu'on appelle ainsi (liste), par abus de langage étant donné le nom de leur type, les tableaux indexés de Python."
   ]
  },
  {
   "cell_type": "code",
   "execution_count": 65,
   "metadata": {},
   "outputs": [],
   "source": [
    "tab = [4, 6, 3, 1, 2, 7, 8, 9]\n",
    "\n",
    "# Le type de tab est list\n",
    "assert type(tab) == list\n",
    "\n",
    "# Le nombre d'éléments de tab est 8. \n",
    "# Cette valeur est la  taille de la liste\n",
    "assert len(tab) == 8"
   ]
  },
  {
   "cell_type": "markdown",
   "metadata": {},
   "source": [
    "On peut accéder aux éléments du tableau via l'`index` ou `indice` des éléments (d'où le nom `tableau indexé`):\n"
   ]
  },
  {
   "cell_type": "code",
   "execution_count": 66,
   "metadata": {},
   "outputs": [],
   "source": [
    "assert tab[0] == 4    # Accès au 1er élément de la liste -> Indice 0\n",
    "assert tab[1] == 6    # Accès au 7em élément de la liste -> Indice 6\n",
    "assert tab[5] == 7    # Accès au 6em élément de la liste -> Indice 5\n",
    "assert tab[7] == 9    # Accès au 8em élément de la liste -> Indice 7"
   ]
  },
  {
   "cell_type": "markdown",
   "metadata": {},
   "source": [
    "Un tableau peut contenir autre chose que des entiers ou des flottants. Continuons dans la console."
   ]
  },
  {
   "cell_type": "code",
   "execution_count": 67,
   "metadata": {},
   "outputs": [],
   "source": [
    "# inventaire est une liste de listes\n",
    "inventaire = [[\"tomate\", 3],[\"salade\", 4],[\"concombre\", 1],[\"poivron\", 0]]"
   ]
  },
  {
   "cell_type": "code",
   "execution_count": 68,
   "metadata": {},
   "outputs": [
    {
     "data": {
      "text/plain": [
       "['tomate', 3]"
      ]
     },
     "execution_count": 68,
     "metadata": {},
     "output_type": "execute_result"
    }
   ],
   "source": [
    "# Accès au premier élement de la liste inventaire\n",
    "inventaire[0]"
   ]
  },
  {
   "cell_type": "code",
   "execution_count": 69,
   "metadata": {},
   "outputs": [
    {
     "data": {
      "text/plain": [
       "4"
      ]
     },
     "execution_count": 69,
     "metadata": {},
     "output_type": "execute_result"
    }
   ],
   "source": [
    "# Longueur de la liste inventaire\n",
    "len(inventaire)"
   ]
  },
  {
   "cell_type": "code",
   "execution_count": 70,
   "metadata": {},
   "outputs": [
    {
     "data": {
      "text/plain": [
       "2"
      ]
     },
     "execution_count": 70,
     "metadata": {},
     "output_type": "execute_result"
    }
   ],
   "source": [
    "# longueur de la sous liste inventaire[0]\n",
    "len(inventaire[0])"
   ]
  },
  {
   "cell_type": "code",
   "execution_count": 71,
   "metadata": {},
   "outputs": [
    {
     "data": {
      "text/plain": [
       "1"
      ]
     },
     "execution_count": 71,
     "metadata": {},
     "output_type": "execute_result"
    }
   ],
   "source": [
    "# Element d'indice 1 de la sous liste d'indice 2\n",
    "inventaire[2][1]"
   ]
  },
  {
   "cell_type": "code",
   "execution_count": 72,
   "metadata": {},
   "outputs": [
    {
     "data": {
      "text/plain": [
       "3"
      ]
     },
     "execution_count": 72,
     "metadata": {},
     "output_type": "execute_result"
    }
   ],
   "source": [
    "# Element d'indice 1 de la liste\n",
    "[\"tomate\" , 3][1]"
   ]
  },
  {
   "cell_type": "code",
   "execution_count": 73,
   "metadata": {},
   "outputs": [
    {
     "ename": "IndexError",
     "evalue": "list index out of range",
     "output_type": "error",
     "traceback": [
      "\u001b[1;31m---------------------------------------------------------------------------\u001b[0m",
      "\u001b[1;31mIndexError\u001b[0m                                Traceback (most recent call last)",
      "\u001b[1;32m<ipython-input-73-abb8b7e44a23>\u001b[0m in \u001b[0;36m<module>\u001b[1;34m\u001b[0m\n\u001b[0;32m      1\u001b[0m \u001b[1;31m# Element d'indice 4 de la liste\u001b[0m\u001b[1;33m\u001b[0m\u001b[1;33m\u001b[0m\u001b[1;33m\u001b[0m\u001b[0m\n\u001b[1;32m----> 2\u001b[1;33m \u001b[0minventaire\u001b[0m\u001b[1;33m[\u001b[0m\u001b[1;36m4\u001b[0m\u001b[1;33m]\u001b[0m\u001b[1;33m\u001b[0m\u001b[1;33m\u001b[0m\u001b[0m\n\u001b[0m",
      "\u001b[1;31mIndexError\u001b[0m: list index out of range"
     ]
    }
   ],
   "source": [
    "# Element d'indice 4 de la liste\n",
    "inventaire[4]"
   ]
  },
  {
   "cell_type": "code",
   "execution_count": null,
   "metadata": {},
   "outputs": [],
   "source": [
    "# Dernier élément de la liste\n",
    "inventaire[-1]"
   ]
  },
  {
   "cell_type": "markdown",
   "metadata": {},
   "source": [
    "# Parcourir un tableau\n",
    "\n",
    "Un tableau possède un _itérateur_ qui permet de le parcourir de son premier _terme_ à son _dernier_.\n",
    "\n",
    "Il y a différentes façon de procéder. Dans la console, testez et analysez la réponse :"
   ]
  },
  {
   "cell_type": "markdown",
   "metadata": {},
   "source": [
    "## Itération sur une liste"
   ]
  },
  {
   "cell_type": "code",
   "execution_count": null,
   "metadata": {},
   "outputs": [],
   "source": [
    "tab = [0, 2, 4, 6, 8, 10, 12]\n",
    "n = len(tab)"
   ]
  },
  {
   "cell_type": "code",
   "execution_count": null,
   "metadata": {},
   "outputs": [],
   "source": [
    "# Parcours du tableau grâce à son indice.\n",
    "# i balaye les indices de la liste de 0 à n-1\n",
    "# Affichage de chaque élément via son indice\n",
    "for i in range(n):\n",
    "    print(tab[i])\n",
    "    "
   ]
  },
  {
   "cell_type": "code",
   "execution_count": null,
   "metadata": {
    "scrolled": true
   },
   "outputs": [],
   "source": [
    "# Parcours du tableau grâce à son élément.\n",
    "# element prend tour à tour toutes les valeurs de la liste jusqu'au dernier\n",
    "# Affichage de chaque élément\n",
    "for element in tab:\n",
    "    print(element)"
   ]
  },
  {
   "cell_type": "markdown",
   "metadata": {},
   "source": [
    "> **Exercice 1**: Créer une fonction `somme_elements_liste(liste)` qui calcule la somme des éléments d'une liste passée en paramètre. Cette liste contiendra des entiers."
   ]
  },
  {
   "cell_type": "code",
   "execution_count": null,
   "metadata": {},
   "outputs": [],
   "source": [
    "def somme_elements_liste(liste):\n",
    "    ''' Calcule la somme des éléments présents dans une liste\n",
    "    : param liste (list) une liste d'entiers\n",
    "    : return (int) '''\n",
    "    assert type(liste) == list , \"l'argument doit être de type list\"\n",
    "    for elt in liste:\n",
    "        assert type(elt) == int, \"Les valeurs dans la liste sont des entiers\"\n",
    "    \n",
    "    # Initialisation de la somme\n",
    "    somme = 0\n",
    "    \n",
    "    # Balayage des éléments de la liste et ajout à la somme\n",
    "    for elt in liste:\n",
    "        somme += elt\n",
    "    return somme"
   ]
  },
  {
   "cell_type": "code",
   "execution_count": null,
   "metadata": {},
   "outputs": [],
   "source": []
  },
  {
   "cell_type": "code",
   "execution_count": null,
   "metadata": {
    "scrolled": true
   },
   "outputs": [],
   "source": [
    "ma_liste = [2, 4, 6, 7, 9, 1]\n",
    "assert somme_elements_liste(ma_liste) == 29"
   ]
  },
  {
   "cell_type": "code",
   "execution_count": null,
   "metadata": {},
   "outputs": [],
   "source": []
  },
  {
   "cell_type": "markdown",
   "metadata": {},
   "source": [
    "> **Exercice 2**: Créer une fonction `produit_elements_liste(liste)` qui calcule le produit des éléments d'une liste passée en paramètre. Cette liste contiendra des entiers."
   ]
  },
  {
   "cell_type": "code",
   "execution_count": null,
   "metadata": {},
   "outputs": [],
   "source": [
    "def produit_elements_liste(liste):\n",
    "    ''' Calcule le produit des éléments présents dans une liste\n",
    "    : param liste (list) une liste d'entiers\n",
    "    : return (int) '''\n",
    "    assert type(liste) == list , \"l'argument doit être de type list\"\n",
    "    for elt in liste:\n",
    "        assert type(elt) == int, \"Les valeurs dans la liste sont des entiers\"\n",
    "    \n",
    "    # Initialisation du produit\n",
    "    produit = 1\n",
    "    \n",
    "    # Balayage des éléments de la liste et ajout au produit\n",
    "    for elt in liste:\n",
    "        produit *= elt\n",
    "    return produit"
   ]
  },
  {
   "cell_type": "code",
   "execution_count": null,
   "metadata": {},
   "outputs": [],
   "source": []
  },
  {
   "cell_type": "code",
   "execution_count": null,
   "metadata": {
    "scrolled": true
   },
   "outputs": [],
   "source": [
    "ma_liste = [2, 4, 6, 7, 9, 1]\n",
    "assert produit_elements_liste(ma_liste) == 3024"
   ]
  },
  {
   "cell_type": "markdown",
   "metadata": {},
   "source": [
    "## Itération sur une liste de listes"
   ]
  },
  {
   "cell_type": "code",
   "execution_count": null,
   "metadata": {},
   "outputs": [],
   "source": [
    "# inventaire est une liste de listes\n",
    "inventaire = [[\"tomate\", 3],[\"salade\", 4],[\"concombre\", 1],[\"poivron\", 0]]\n",
    "\n",
    "# n est le nombre de sous-listes de la liste -> 4\n",
    "n = len(inventaire)\n",
    "\n",
    "# m est le nombre d'élément d'une sous liste -> 2\n",
    "m = len(inventaire[0])"
   ]
  },
  {
   "cell_type": "code",
   "execution_count": null,
   "metadata": {},
   "outputs": [],
   "source": [
    "# sous_liste prend toutes les valeurs des sous listes présentes dans inventaire\n",
    "# Affichage de chaque sous liste\n",
    "for sous_liste in inventaire:\n",
    "    print(sous_liste)"
   ]
  },
  {
   "cell_type": "code",
   "execution_count": null,
   "metadata": {},
   "outputs": [],
   "source": [
    "# i prend toutes les valeurs entre 0 et n-1 et affiche la sous liste correspondante.\n",
    "for i in range(n):\n",
    "    print(inventaire[i])"
   ]
  },
  {
   "cell_type": "code",
   "execution_count": null,
   "metadata": {},
   "outputs": [],
   "source": [
    "# element prend pour valeur tous les élements de la 1ere sous liste inventaire[0]\n",
    "for element in inventaire[0]:\n",
    "    print(element)"
   ]
  },
  {
   "cell_type": "code",
   "execution_count": null,
   "metadata": {},
   "outputs": [],
   "source": [
    "# j prend toutes les valeurs entre 0 et m-1 = 1\n",
    "# Affiche chaque élément de la 1ere sous liste inventaire[0]\n",
    "for j in range(m):\n",
    "    print(inventaire[0][j])"
   ]
  },
  {
   "cell_type": "markdown",
   "metadata": {},
   "source": [
    "## Double itération sur une liste de listes\n",
    "\n",
    "On notera `i` l'indice des sous-listes et `j` l'indice des élements de chaque sous liste.\n",
    "\n",
    "Une `matrice` est une `liste de listes.` On peut représenter cette matrice en deux dimensions pour une meilleure compréhension.\n",
    "\n",
    "\n",
    "\n",
    "$$ j\\quad \\quad 0 \\quad \\, \\,  1 \\quad \\, \\,   2 \\quad \\quad  i$$\n",
    "\n",
    "$$\n",
    "L = \\left(\\begin{matrix}\n",
    "00 & 01 & 02\\\\\n",
    "10 & 11 & 12\\\\\n",
    "20 & 21 & 22\n",
    "\\end{matrix}\\right)\n",
    "\\quad \n",
    "\\begin{matrix}\n",
    "0\\\\\n",
    "1\\\\\n",
    "2\n",
    "\\end{matrix}\n",
    "$$\n",
    "\n",
    "* L'élément 01 est le deuxième élément de la première sous liste. On y aura accès avec la commande $L[0][1]$\n",
    "* L'élément 20 est le premier élément de la troisième sous liste. On y aura accès avec la commande $L[2][0]$\n",
    "* L'élément 12 est le troisème élément de la deuxième sous liste. On y aura accès avec la commande $L[1][2]$\n",
    "* L'élement ij est le j-1 ième élement de la i-1 ième sous liste. On y aura accès avec la commande $L[i][j]$"
   ]
  },
  {
   "cell_type": "code",
   "execution_count": null,
   "metadata": {},
   "outputs": [],
   "source": [
    "# Matrice de 3 sous-listes de 3 éléments chacune\n",
    "matrice = [[1,2,3],[4,5,6],[7,8,9]]"
   ]
  },
  {
   "cell_type": "code",
   "execution_count": null,
   "metadata": {},
   "outputs": [],
   "source": [
    "# i prend toutes les valeurs entre 0 et 2\n",
    "# pour chaque valeur de i, j prend toutes les valeurs entre 0 et 2\n",
    "# Affichage de l'élément de la ligne i et de la colonne j\n",
    "# Le balayage se fait d'abord en ligne puis en colonne\n",
    "\n",
    "for i in range(3):\n",
    "    for j in range(3):\n",
    "        print(matrice[i][j], end = \" \")\n",
    "    "
   ]
  },
  {
   "cell_type": "code",
   "execution_count": null,
   "metadata": {},
   "outputs": [],
   "source": [
    "# sous_liste prend toutes les valeurs des lignes\n",
    "# pour chaque sous_liste, element prend chaque valeur de la sous liste\n",
    "# Affichage de l'élément de chaque sous liste. \n",
    "# Lorsque la sous liste est terminée, on passe à la sous liste suivante.\n",
    "# Le balayage se fait d'abord en ligne puis en colonne\n",
    "\n",
    "for sous_liste in matrice:\n",
    "    for element in sous_liste:\n",
    "        print(element, end= \" \")"
   ]
  },
  {
   "cell_type": "markdown",
   "metadata": {},
   "source": [
    "> **Exercice 3**: Ecrire une fonction `somme_matrice(matrice)` qui calcule la somme des éléments présents dans la matrice (liste de liste)"
   ]
  },
  {
   "cell_type": "code",
   "execution_count": null,
   "metadata": {},
   "outputs": [],
   "source": [
    "def somme_matrice(matrice):\n",
    "    ''' Calcule la somme des termes présents dans la matrice\n",
    "    : param matrice (list) de valeurs entières\n",
    "    : return (int)\n",
    "    '''\n",
    "    assert type(matrice) == list , \"l'argument doit etre une liste\"\n",
    "    for ligne in matrice:\n",
    "        for elt in ligne:\n",
    "            assert type(elt) == int\n",
    "            \n",
    "    somme = 0\n",
    "    for ligne in matrice:\n",
    "        for elt in ligne:\n",
    "            somme += elt\n",
    "    \n",
    "    return somme"
   ]
  },
  {
   "cell_type": "code",
   "execution_count": null,
   "metadata": {},
   "outputs": [],
   "source": []
  },
  {
   "cell_type": "code",
   "execution_count": null,
   "metadata": {},
   "outputs": [],
   "source": [
    "ma_matrice = [[1,6,8,7],[5,9,0,1]]\n",
    "assert somme_matrice(ma_matrice) == 37"
   ]
  },
  {
   "cell_type": "markdown",
   "metadata": {},
   "source": [
    "> **Exercice 4** Ecrire une fonction `moyenne_ponderee(tableau_notes)` qui calcule la moyenne pondérées des notes contenues dans une liste de listes.\n",
    ">\n",
    "> La liste de listes sera de la forme:\n",
    "> ```python\n",
    "> [[moy_1 , coef_1], [moy_2 , coef_2], ... , [moy_n , coef_n]]\n",
    "    ```\n",
    "> Une moyenne pondérée se calculant ainsi:\n",
    "> $$ \\verb*moyenne* = \\dfrac{\\verb*moy1* \\times \\verb*coef1*+\\verb*moy2* \\times \\verb*coef2*+...+\\verb*moyn* \\times \\verb*coefn*}{\\verb*coef1*+\\verb*coef2*+...+\\verb*coefn*}$$\n",
    ">\n",
    "> On arrondira cette moyenne avec 2 chiffres après la virgules avec l'instruction:\n",
    "```python\n",
    "round(valeur,2)\n",
    "```\n"
   ]
  },
  {
   "cell_type": "code",
   "execution_count": null,
   "metadata": {},
   "outputs": [],
   "source": [
    "def moyenne_ponderee(tableau_notes):\n",
    "    ''' Calcule la moyenne pondérée d'un tableau de notes\n",
    "    : param tableau_notes (list) une liste de listes\n",
    "    : return moyenne (float) la moyenne pondérée\n",
    "    '''\n",
    "    assert type(tableau_notes) == list\n",
    "    for note in tableau_notes:\n",
    "        assert type(note[0]) == int and 0 <= note[0] <= 20\n",
    "        assert type(note[1]) == int and note[1] >= 0\n",
    "        \n",
    "    somme_notes = somme_coefs = 0\n",
    "    for note in tableau_notes:\n",
    "        somme_notes += note[0] * note[1]\n",
    "        somme_coefs += note[1]\n",
    "    \n",
    "    moyenne_ponderee = somme_notes / somme_coefs\n",
    "    return round(moyenne_ponderee , 2)\n",
    "    "
   ]
  },
  {
   "cell_type": "code",
   "execution_count": null,
   "metadata": {},
   "outputs": [],
   "source": [
    "mes_notes = [[10,2],[15,3],[8,1],[12,2]]\n",
    "assert moyenne_ponderee(mes_notes) == 12;12"
   ]
  },
  {
   "cell_type": "markdown",
   "metadata": {},
   "source": [
    "# Appartenance d'un élément à une liste\n",
    "\n",
    "Il est possible de tester si un élément appartient à une liste."
   ]
  },
  {
   "cell_type": "markdown",
   "metadata": {},
   "source": [
    "> **Exercice 5** Ecrire une fonction `est_dans_liste(liste,valeur)` qui teste si `valeur` est un élément de liste. Renvoie `True` s'il appartient et `False` sinon"
   ]
  },
  {
   "cell_type": "code",
   "execution_count": null,
   "metadata": {},
   "outputs": [],
   "source": [
    "def est_dans_liste(liste, valeur):\n",
    "    ''' Renvoie True si valeur est dans liste et False sinon\n",
    "    : param liste (list): une liste de valeurs\n",
    "    : param valeur (): une valeur à tester\n",
    "    : return (bool) une valeur booléenne\n",
    "    '''\n",
    "    assert type(liste) == list\n",
    "    \n",
    "    flag_is_in_liste = False\n",
    "    \n",
    "    for elt in liste:\n",
    "        if elt == valeur:\n",
    "            flag_is_in_liste = True\n",
    "    \n",
    "    return flag_is_in_liste\n",
    "        "
   ]
  },
  {
   "cell_type": "code",
   "execution_count": null,
   "metadata": {},
   "outputs": [],
   "source": [
    "assert est_dans_liste([1,2,3], 1) == True\n",
    "assert est_dans_liste([1,2,3], 2) == True\n",
    "assert est_dans_liste([1,2,3], 3) == True\n",
    "assert est_dans_liste([1,2,3], 4) == False"
   ]
  },
  {
   "cell_type": "markdown",
   "metadata": {},
   "source": [
    "Python embarque nativement des fonctionnalités qui permettent de vérifier rapidement si un élément appartient à une liste. Vous pouvez tester les fonctionnalités suivantes. La valeur retournée est toujours un booléen (`True` ou `False`)\n",
    "\n",
    "```python\n",
    ">>> 2 in [1, 2 , 'a', 4]\n",
    "???\n",
    ">>> a in [1, 2 , 'a', 4]\n",
    "???\n",
    ">>> 'a' in [1, 2 , 'a', 4]\n",
    "???\n",
    ">>> 5 not in [1, 2 , 'a', 4]\n",
    "???\n",
    ">>> 2 in [[12,2], [13, 3]]\n",
    "???\n",
    ">>> [13, 3] in [[12,2], [13, 3]]\n",
    "???\n",
    "```"
   ]
  }
 ],
 "metadata": {
  "kernelspec": {
   "display_name": "Python 3",
   "language": "python",
   "name": "python3"
  },
  "language_info": {
   "codemirror_mode": {
    "name": "ipython",
    "version": 3
   },
   "file_extension": ".py",
   "mimetype": "text/x-python",
   "name": "python",
   "nbconvert_exporter": "python",
   "pygments_lexer": "ipython3",
   "version": "3.7.6"
  }
 },
 "nbformat": 4,
 "nbformat_minor": 4
}
